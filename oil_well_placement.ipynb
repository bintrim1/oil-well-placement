{
 "cells": [
  {
   "cell_type": "markdown",
   "metadata": {},
   "source": [
    "# Sprint 9 Project"
   ]
  },
  {
   "cell_type": "markdown",
   "metadata": {},
   "source": [
    "## Introduction\n",
    "\n",
    "Working for the OilyGiant mining company, I am tasked with finding the best place to build a new well. \n",
    "\n",
    "These are the following steps I will take to choose the new location:\n",
    "\n",
    "* Collect the oil well parameters in the selected regions: oil quality and volume of reserves\n",
    "* Build a model for predicting the volume of reserves in the new wells\n",
    "* Pick the oil wells with the highest estimated values\n",
    "* Pick the region with the highest total profit for the selected oil wells\n",
    "\n",
    "I have data onoil samples from three regions. Parameters of each oil well in the region are already known. I will be building a model that will help pick the region with the highest profit margin, and analyzing potential profit and risks."
   ]
  },
  {
   "cell_type": "markdown",
   "metadata": {},
   "source": [
    "### Data description"
   ]
  },
  {
   "cell_type": "markdown",
   "metadata": {},
   "source": [
    "`id` — unique oil well identifier\\\n",
    "`f0, f1, f2` — three features of points (their specific meaning is unimportant, but the features themselves are significant)\\\n",
    "`product` — volume of reserves in the oil well (thousand barrels)."
   ]
  },
  {
   "cell_type": "markdown",
   "metadata": {},
   "source": [
    "## Loading Libraries"
   ]
  },
  {
   "cell_type": "code",
   "execution_count": 1,
   "metadata": {},
   "outputs": [],
   "source": [
    "import pandas as pd\n",
    "import numpy as np\n",
    "from sklearn.model_selection import train_test_split\n",
    "from sklearn.model_selection import RandomizedSearchCV\n",
    "import matplotlib.pyplot as plt\n",
    "from sklearn.linear_model import LinearRegression\n",
    "from sklearn.metrics import mean_squared_error"
   ]
  },
  {
   "cell_type": "markdown",
   "metadata": {},
   "source": [
    "## Loading Data"
   ]
  },
  {
   "cell_type": "code",
   "execution_count": 2,
   "metadata": {},
   "outputs": [],
   "source": [
    "geo0 = pd.read_csv('/datasets/geo_data_0.csv')\n",
    "geo1 = pd.read_csv('/datasets/geo_data_1.csv')\n",
    "geo2 = pd.read_csv('/datasets/geo_data_2.csv')"
   ]
  },
  {
   "cell_type": "code",
   "execution_count": 3,
   "metadata": {},
   "outputs": [
    {
     "data": {
      "text/html": [
       "<div>\n",
       "<style scoped>\n",
       "    .dataframe tbody tr th:only-of-type {\n",
       "        vertical-align: middle;\n",
       "    }\n",
       "\n",
       "    .dataframe tbody tr th {\n",
       "        vertical-align: top;\n",
       "    }\n",
       "\n",
       "    .dataframe thead th {\n",
       "        text-align: right;\n",
       "    }\n",
       "</style>\n",
       "<table border=\"1\" class=\"dataframe\">\n",
       "  <thead>\n",
       "    <tr style=\"text-align: right;\">\n",
       "      <th></th>\n",
       "      <th>id</th>\n",
       "      <th>f0</th>\n",
       "      <th>f1</th>\n",
       "      <th>f2</th>\n",
       "      <th>product</th>\n",
       "    </tr>\n",
       "  </thead>\n",
       "  <tbody>\n",
       "    <tr>\n",
       "      <th>0</th>\n",
       "      <td>txEyH</td>\n",
       "      <td>0.705745</td>\n",
       "      <td>-0.497823</td>\n",
       "      <td>1.221170</td>\n",
       "      <td>105.280062</td>\n",
       "    </tr>\n",
       "    <tr>\n",
       "      <th>1</th>\n",
       "      <td>2acmU</td>\n",
       "      <td>1.334711</td>\n",
       "      <td>-0.340164</td>\n",
       "      <td>4.365080</td>\n",
       "      <td>73.037750</td>\n",
       "    </tr>\n",
       "    <tr>\n",
       "      <th>2</th>\n",
       "      <td>409Wp</td>\n",
       "      <td>1.022732</td>\n",
       "      <td>0.151990</td>\n",
       "      <td>1.419926</td>\n",
       "      <td>85.265647</td>\n",
       "    </tr>\n",
       "    <tr>\n",
       "      <th>3</th>\n",
       "      <td>iJLyR</td>\n",
       "      <td>-0.032172</td>\n",
       "      <td>0.139033</td>\n",
       "      <td>2.978566</td>\n",
       "      <td>168.620776</td>\n",
       "    </tr>\n",
       "    <tr>\n",
       "      <th>4</th>\n",
       "      <td>Xdl7t</td>\n",
       "      <td>1.988431</td>\n",
       "      <td>0.155413</td>\n",
       "      <td>4.751769</td>\n",
       "      <td>154.036647</td>\n",
       "    </tr>\n",
       "  </tbody>\n",
       "</table>\n",
       "</div>"
      ],
      "text/plain": [
       "      id        f0        f1        f2     product\n",
       "0  txEyH  0.705745 -0.497823  1.221170  105.280062\n",
       "1  2acmU  1.334711 -0.340164  4.365080   73.037750\n",
       "2  409Wp  1.022732  0.151990  1.419926   85.265647\n",
       "3  iJLyR -0.032172  0.139033  2.978566  168.620776\n",
       "4  Xdl7t  1.988431  0.155413  4.751769  154.036647"
      ]
     },
     "execution_count": 3,
     "metadata": {},
     "output_type": "execute_result"
    }
   ],
   "source": [
    "geo0.head()"
   ]
  },
  {
   "cell_type": "code",
   "execution_count": 4,
   "metadata": {},
   "outputs": [
    {
     "name": "stdout",
     "output_type": "stream",
     "text": [
      "<class 'pandas.core.frame.DataFrame'>\n",
      "RangeIndex: 100000 entries, 0 to 99999\n",
      "Data columns (total 5 columns):\n",
      " #   Column   Non-Null Count   Dtype  \n",
      "---  ------   --------------   -----  \n",
      " 0   id       100000 non-null  object \n",
      " 1   f0       100000 non-null  float64\n",
      " 2   f1       100000 non-null  float64\n",
      " 3   f2       100000 non-null  float64\n",
      " 4   product  100000 non-null  float64\n",
      "dtypes: float64(4), object(1)\n",
      "memory usage: 3.8+ MB\n"
     ]
    }
   ],
   "source": [
    "geo0.info()"
   ]
  },
  {
   "cell_type": "code",
   "execution_count": 5,
   "metadata": {},
   "outputs": [
    {
     "data": {
      "text/html": [
       "<div>\n",
       "<style scoped>\n",
       "    .dataframe tbody tr th:only-of-type {\n",
       "        vertical-align: middle;\n",
       "    }\n",
       "\n",
       "    .dataframe tbody tr th {\n",
       "        vertical-align: top;\n",
       "    }\n",
       "\n",
       "    .dataframe thead th {\n",
       "        text-align: right;\n",
       "    }\n",
       "</style>\n",
       "<table border=\"1\" class=\"dataframe\">\n",
       "  <thead>\n",
       "    <tr style=\"text-align: right;\">\n",
       "      <th></th>\n",
       "      <th>id</th>\n",
       "      <th>f0</th>\n",
       "      <th>f1</th>\n",
       "      <th>f2</th>\n",
       "      <th>product</th>\n",
       "    </tr>\n",
       "  </thead>\n",
       "  <tbody>\n",
       "    <tr>\n",
       "      <th>0</th>\n",
       "      <td>kBEdx</td>\n",
       "      <td>-15.001348</td>\n",
       "      <td>-8.276000</td>\n",
       "      <td>-0.005876</td>\n",
       "      <td>3.179103</td>\n",
       "    </tr>\n",
       "    <tr>\n",
       "      <th>1</th>\n",
       "      <td>62mP7</td>\n",
       "      <td>14.272088</td>\n",
       "      <td>-3.475083</td>\n",
       "      <td>0.999183</td>\n",
       "      <td>26.953261</td>\n",
       "    </tr>\n",
       "    <tr>\n",
       "      <th>2</th>\n",
       "      <td>vyE1P</td>\n",
       "      <td>6.263187</td>\n",
       "      <td>-5.948386</td>\n",
       "      <td>5.001160</td>\n",
       "      <td>134.766305</td>\n",
       "    </tr>\n",
       "    <tr>\n",
       "      <th>3</th>\n",
       "      <td>KcrkZ</td>\n",
       "      <td>-13.081196</td>\n",
       "      <td>-11.506057</td>\n",
       "      <td>4.999415</td>\n",
       "      <td>137.945408</td>\n",
       "    </tr>\n",
       "    <tr>\n",
       "      <th>4</th>\n",
       "      <td>AHL4O</td>\n",
       "      <td>12.702195</td>\n",
       "      <td>-8.147433</td>\n",
       "      <td>5.004363</td>\n",
       "      <td>134.766305</td>\n",
       "    </tr>\n",
       "  </tbody>\n",
       "</table>\n",
       "</div>"
      ],
      "text/plain": [
       "      id         f0         f1        f2     product\n",
       "0  kBEdx -15.001348  -8.276000 -0.005876    3.179103\n",
       "1  62mP7  14.272088  -3.475083  0.999183   26.953261\n",
       "2  vyE1P   6.263187  -5.948386  5.001160  134.766305\n",
       "3  KcrkZ -13.081196 -11.506057  4.999415  137.945408\n",
       "4  AHL4O  12.702195  -8.147433  5.004363  134.766305"
      ]
     },
     "execution_count": 5,
     "metadata": {},
     "output_type": "execute_result"
    }
   ],
   "source": [
    "geo1.head()"
   ]
  },
  {
   "cell_type": "code",
   "execution_count": 6,
   "metadata": {},
   "outputs": [
    {
     "name": "stdout",
     "output_type": "stream",
     "text": [
      "<class 'pandas.core.frame.DataFrame'>\n",
      "RangeIndex: 100000 entries, 0 to 99999\n",
      "Data columns (total 5 columns):\n",
      " #   Column   Non-Null Count   Dtype  \n",
      "---  ------   --------------   -----  \n",
      " 0   id       100000 non-null  object \n",
      " 1   f0       100000 non-null  float64\n",
      " 2   f1       100000 non-null  float64\n",
      " 3   f2       100000 non-null  float64\n",
      " 4   product  100000 non-null  float64\n",
      "dtypes: float64(4), object(1)\n",
      "memory usage: 3.8+ MB\n"
     ]
    }
   ],
   "source": [
    "geo1.info() "
   ]
  },
  {
   "cell_type": "code",
   "execution_count": 7,
   "metadata": {},
   "outputs": [
    {
     "data": {
      "text/html": [
       "<div>\n",
       "<style scoped>\n",
       "    .dataframe tbody tr th:only-of-type {\n",
       "        vertical-align: middle;\n",
       "    }\n",
       "\n",
       "    .dataframe tbody tr th {\n",
       "        vertical-align: top;\n",
       "    }\n",
       "\n",
       "    .dataframe thead th {\n",
       "        text-align: right;\n",
       "    }\n",
       "</style>\n",
       "<table border=\"1\" class=\"dataframe\">\n",
       "  <thead>\n",
       "    <tr style=\"text-align: right;\">\n",
       "      <th></th>\n",
       "      <th>id</th>\n",
       "      <th>f0</th>\n",
       "      <th>f1</th>\n",
       "      <th>f2</th>\n",
       "      <th>product</th>\n",
       "    </tr>\n",
       "  </thead>\n",
       "  <tbody>\n",
       "    <tr>\n",
       "      <th>0</th>\n",
       "      <td>fwXo0</td>\n",
       "      <td>-1.146987</td>\n",
       "      <td>0.963328</td>\n",
       "      <td>-0.828965</td>\n",
       "      <td>27.758673</td>\n",
       "    </tr>\n",
       "    <tr>\n",
       "      <th>1</th>\n",
       "      <td>WJtFt</td>\n",
       "      <td>0.262778</td>\n",
       "      <td>0.269839</td>\n",
       "      <td>-2.530187</td>\n",
       "      <td>56.069697</td>\n",
       "    </tr>\n",
       "    <tr>\n",
       "      <th>2</th>\n",
       "      <td>ovLUW</td>\n",
       "      <td>0.194587</td>\n",
       "      <td>0.289035</td>\n",
       "      <td>-5.586433</td>\n",
       "      <td>62.871910</td>\n",
       "    </tr>\n",
       "    <tr>\n",
       "      <th>3</th>\n",
       "      <td>q6cA6</td>\n",
       "      <td>2.236060</td>\n",
       "      <td>-0.553760</td>\n",
       "      <td>0.930038</td>\n",
       "      <td>114.572842</td>\n",
       "    </tr>\n",
       "    <tr>\n",
       "      <th>4</th>\n",
       "      <td>WPMUX</td>\n",
       "      <td>-0.515993</td>\n",
       "      <td>1.716266</td>\n",
       "      <td>5.899011</td>\n",
       "      <td>149.600746</td>\n",
       "    </tr>\n",
       "  </tbody>\n",
       "</table>\n",
       "</div>"
      ],
      "text/plain": [
       "      id        f0        f1        f2     product\n",
       "0  fwXo0 -1.146987  0.963328 -0.828965   27.758673\n",
       "1  WJtFt  0.262778  0.269839 -2.530187   56.069697\n",
       "2  ovLUW  0.194587  0.289035 -5.586433   62.871910\n",
       "3  q6cA6  2.236060 -0.553760  0.930038  114.572842\n",
       "4  WPMUX -0.515993  1.716266  5.899011  149.600746"
      ]
     },
     "execution_count": 7,
     "metadata": {},
     "output_type": "execute_result"
    }
   ],
   "source": [
    "geo2.head()"
   ]
  },
  {
   "cell_type": "code",
   "execution_count": 8,
   "metadata": {},
   "outputs": [
    {
     "name": "stdout",
     "output_type": "stream",
     "text": [
      "<class 'pandas.core.frame.DataFrame'>\n",
      "RangeIndex: 100000 entries, 0 to 99999\n",
      "Data columns (total 5 columns):\n",
      " #   Column   Non-Null Count   Dtype  \n",
      "---  ------   --------------   -----  \n",
      " 0   id       100000 non-null  object \n",
      " 1   f0       100000 non-null  float64\n",
      " 2   f1       100000 non-null  float64\n",
      " 3   f2       100000 non-null  float64\n",
      " 4   product  100000 non-null  float64\n",
      "dtypes: float64(4), object(1)\n",
      "memory usage: 3.8+ MB\n"
     ]
    }
   ],
   "source": [
    "geo2.info()"
   ]
  },
  {
   "cell_type": "markdown",
   "metadata": {},
   "source": [
    "## Preparing Data"
   ]
  },
  {
   "cell_type": "markdown",
   "metadata": {},
   "source": [
    "### Validating Data"
   ]
  },
  {
   "cell_type": "code",
   "execution_count": 9,
   "metadata": {},
   "outputs": [
    {
     "name": "stdout",
     "output_type": "stream",
     "text": [
      "0\n",
      "0\n",
      "0\n"
     ]
    }
   ],
   "source": [
    "# checking for duplicates\n",
    "\n",
    "print(geo0.duplicated().sum())\n",
    "print(geo1.duplicated().sum())\n",
    "print(geo2.duplicated().sum())"
   ]
  },
  {
   "cell_type": "code",
   "execution_count": 10,
   "metadata": {},
   "outputs": [
    {
     "data": {
      "text/plain": [
       "id          object\n",
       "f0         float64\n",
       "f1         float64\n",
       "f2         float64\n",
       "product    float64\n",
       "dtype: object"
      ]
     },
     "metadata": {},
     "output_type": "display_data"
    },
    {
     "data": {
      "text/plain": [
       "id          object\n",
       "f0         float64\n",
       "f1         float64\n",
       "f2         float64\n",
       "product    float64\n",
       "dtype: object"
      ]
     },
     "metadata": {},
     "output_type": "display_data"
    },
    {
     "data": {
      "text/plain": [
       "id          object\n",
       "f0         float64\n",
       "f1         float64\n",
       "f2         float64\n",
       "product    float64\n",
       "dtype: object"
      ]
     },
     "metadata": {},
     "output_type": "display_data"
    }
   ],
   "source": [
    "# checking data types\n",
    "display(geo0.dtypes)\n",
    "display(geo1.dtypes)\n",
    "display(geo2.dtypes)"
   ]
  },
  {
   "cell_type": "markdown",
   "metadata": {},
   "source": [
    "### Splitting Data"
   ]
  },
  {
   "cell_type": "code",
   "execution_count": 11,
   "metadata": {},
   "outputs": [],
   "source": [
    "# splitting each region into feature and target sets\n",
    "\n",
    "geo0_features = geo0.drop(['product', 'id'], axis=1)\n",
    "geo0_target = geo0['product']\n",
    "\n",
    "geo1_features = geo1.drop(['product', 'id'], axis=1)\n",
    "geo1_target = geo1['product']\n",
    "\n",
    "geo2_features = geo2.drop(['product', 'id'], axis=1)\n",
    "geo2_target = geo2['product']"
   ]
  },
  {
   "cell_type": "code",
   "execution_count": 12,
   "metadata": {},
   "outputs": [],
   "source": [
    "# splitting each set into training and validation sets at a 75:25 ratio\n",
    "\n",
    "geo0_features_train, geo0_features_valid, geo0_target_train, geo0_target_valid = train_test_split(\n",
    "    geo0_features, geo0_target, test_size=0.25, random_state=1)\n",
    "\n",
    "geo1_features_train, geo1_features_valid, geo1_target_train, geo1_target_valid = train_test_split(\n",
    "    geo1_features, geo1_target, test_size=0.25, random_state=1)\n",
    "\n",
    "geo2_features_train, geo2_features_valid, geo2_target_train, geo2_target_valid = train_test_split(\n",
    "    geo2_features, geo2_target, test_size=0.25, random_state=1)"
   ]
  },
  {
   "cell_type": "markdown",
   "metadata": {},
   "source": [
    "**Wrap-up**\n",
    "\n",
    "Once the data was loaded into its respective dataframes, I explored it for duplicates and to confirm that the datatypes were appropriate for the data stored in them. \n",
    "\n",
    "After that was complete, I split the datasets into features and targets. I had to drop the 'id' column from features because it was an object, and not relevent to our regression model. \n",
    "\n",
    "Now that I had the features and targets split, I used `train_test_split` to split the data sets into training and validation sets, at a ratio of 75%:25%.\n",
    "\n",
    "Now I can move onto building the model."
   ]
  },
  {
   "cell_type": "markdown",
   "metadata": {},
   "source": [
    "## Building Linear Regression Model"
   ]
  },
  {
   "cell_type": "code",
   "execution_count": 13,
   "metadata": {},
   "outputs": [
    {
     "name": "stdout",
     "output_type": "stream",
     "text": [
      "Average value of predicted reserves: 92.49262459838863\n",
      "RMSE of the geo0 linear regression model on the validation set: 37.74258669996437\n"
     ]
    }
   ],
   "source": [
    "# geo0 linear regression model\n",
    "\n",
    "geo0_model = LinearRegression()\n",
    "\n",
    "geo0_model.fit(geo0_features_train, geo0_target_train)\n",
    "\n",
    "predictions_valid_geo0 = geo0_model.predict(geo0_features_valid)\n",
    "\n",
    "result = mean_squared_error(geo0_target_valid, predictions_valid_geo0) ** 0.5\n",
    "\n",
    "predictions_avg_geo0 = predictions_valid_geo0.mean()\n",
    "\n",
    "print(\"Average value of predicted reserves:\", predictions_avg_geo0)\n",
    "print('RMSE of the geo0 linear regression model on the validation set:', result)"
   ]
  },
  {
   "cell_type": "code",
   "execution_count": 14,
   "metadata": {},
   "outputs": [
    {
     "name": "stdout",
     "output_type": "stream",
     "text": [
      "Average value of predicted reserves: 69.12040524285558\n",
      "RMSE of the geo1 linear regression model on the validation set: 0.8943375629130574\n"
     ]
    }
   ],
   "source": [
    "# geo1 linear regression model\n",
    "\n",
    "geo1_model = LinearRegression()\n",
    "\n",
    "geo1_model.fit(geo1_features_train, geo1_target_train)\n",
    "\n",
    "predictions_valid_geo1 = geo1_model.predict(geo1_features_valid)\n",
    "\n",
    "result = mean_squared_error(geo1_target_valid, predictions_valid_geo1) ** 0.5\n",
    "\n",
    "predictions_avg_geo1 = predictions_valid_geo1.mean()\n",
    "\n",
    "print(\"Average value of predicted reserves:\", predictions_avg_geo1)\n",
    "\n",
    "print('RMSE of the geo1 linear regression model on the validation set:', result)"
   ]
  },
  {
   "cell_type": "code",
   "execution_count": 15,
   "metadata": {},
   "outputs": [
    {
     "name": "stdout",
     "output_type": "stream",
     "text": [
      "Average value of predicted reserves: 94.9568304858529\n",
      "RMSE of the geo2 linear regression model on the validation set: 39.86671127773423\n"
     ]
    }
   ],
   "source": [
    "# geo2 linear regression model\n",
    "\n",
    "geo2_model = LinearRegression()\n",
    "\n",
    "geo2_model.fit(geo2_features_train, geo2_target_train)\n",
    "\n",
    "predictions_valid_geo2 = geo2_model.predict(geo2_features_valid)\n",
    "\n",
    "result = mean_squared_error(geo2_target_valid, predictions_valid_geo2) ** 0.5\n",
    "\n",
    "predictions_avg_geo2 = predictions_valid_geo2.mean()\n",
    "\n",
    "print(\"Average value of predicted reserves:\", predictions_avg_geo2)\n",
    "                            \n",
    "print('RMSE of the geo2 linear regression model on the validation set:', result)"
   ]
  },
  {
   "cell_type": "markdown",
   "metadata": {},
   "source": [
    "**Wrap-up**\n",
    "\n",
    "The models have been built and trained on data for each region. I can conclude the following:\n",
    "\n",
    "* Region from geo2 has the largest average predicted reserves, followed by geo0.\n",
    "* The model for the region from geo1 has the lowest RMSE score, with a mean error of only 0.89 for the predicted reserve values.\n",
    "    * This leads me to conclude that the model for geo1 is the most accurate \n",
    "   \n",
    "Next, I will move onto preparing data for profit calculation."
   ]
  },
  {
   "cell_type": "markdown",
   "metadata": {},
   "source": [
    "## Preparing For Profit Calculation"
   ]
  },
  {
   "cell_type": "code",
   "execution_count": 16,
   "metadata": {},
   "outputs": [],
   "source": [
    "# provided variables for calculations\n",
    "\n",
    "BUDGET = 100000000\n",
    "WELL_SAMPLE_SIZE = 200\n",
    "REVENUE_PER_UNIT = 4500"
   ]
  },
  {
   "cell_type": "code",
   "execution_count": 17,
   "metadata": {},
   "outputs": [
    {
     "name": "stdout",
     "output_type": "stream",
     "text": [
      "111.11111111111111\n"
     ]
    }
   ],
   "source": [
    "min_product_per_well = (BUDGET/WELL_SAMPLE_SIZE) / REVENUE_PER_UNIT\n",
    "\n",
    "print(min_product_per_well)"
   ]
  },
  {
   "cell_type": "markdown",
   "metadata": {},
   "source": [
    "We will need to produce a minimuim average of **111.11 units of product per well** in order to operate without losses on the new wells."
   ]
  },
  {
   "cell_type": "markdown",
   "metadata": {},
   "source": [
    "Comparing this to the average value of predicted reserves, there is still some work to be done. The highest average of predicted reserves was the geo2 region, with a value of **94.96** which is still short of the **111.11** unit goal.\n",
    "\n",
    "Next step is to pick the top 200 predicted wells in each region, and calculate the profits of those."
   ]
  },
  {
   "cell_type": "markdown",
   "metadata": {},
   "source": [
    "## Calculating Profit of Top 200 Wells Per Region"
   ]
  },
  {
   "cell_type": "code",
   "execution_count": 18,
   "metadata": {},
   "outputs": [],
   "source": [
    "# Defining a function to find the top 200 regions and calculate the profit of that region\n",
    "# It will take a series of predictions and return a profit amount\n",
    "\n",
    "def calculate_profit(target, predictions):\n",
    "    target = target.reset_index(drop=True)\n",
    "    predictions = pd.Series(predictions)\n",
    "    predictions = predictions.reset_index(drop=True)\n",
    "    top_wells = predictions.sort_values(ascending=False).head(WELL_SAMPLE_SIZE).index\n",
    "    target_reserves = target.loc[top_wells].sum()\n",
    "    revenue = target_reserves * REVENUE_PER_UNIT\n",
    "    profit = revenue - BUDGET\n",
    "    return profit.round(2)"
   ]
  },
  {
   "cell_type": "code",
   "execution_count": 19,
   "metadata": {
    "scrolled": false
   },
   "outputs": [
    {
     "name": "stdout",
     "output_type": "stream",
     "text": [
      "geo0 Region top 200 wells predicted profit: 32,607,814.18\n",
      "geo1 Region top 200 wells predicted profit: 24,150,866.97\n",
      "geo2 Region top 200 wells predicted profit: 25,630,933.52\n"
     ]
    }
   ],
   "source": [
    "# calculating profit for each region's top 200 wells\n",
    "\n",
    "print(f'geo0 Region top 200 wells predicted profit: {calculate_profit(geo0_target_valid, predictions_valid_geo0):,}')\n",
    "print(f'geo1 Region top 200 wells predicted profit: {calculate_profit(geo1_target_valid, predictions_valid_geo1):,}')\n",
    "print(f'geo2 Region top 200 wells predicted profit: {calculate_profit(geo2_target_valid, predictions_valid_geo2):,}')"
   ]
  },
  {
   "cell_type": "markdown",
   "metadata": {},
   "source": [
    "**Wrap-Up**\n",
    "\n",
    "If I look at strictly the top 200 wells in each region, the region represented by the **geo0 dataset** would produce the most profit. It is highly unlikely that this outcome could be reproduced during the later sampling, so this ultimately does not tell us much, just that this region has the highest performing top 200, compared to the other regions' top 200. \n",
    "\n",
    "The profit was calculated by taking the top 200 sites by predicted reserves, finding the associated true reserve value from the provided data, multiplying them by the revenue per unit (4500) and then subtracting that revenue value by the initial investment of $100m. \n",
    "\n",
    "Next, I will produce a more accurate look at each region, using bootstrapping to iterate through thousands more datapoints. "
   ]
  },
  {
   "cell_type": "markdown",
   "metadata": {},
   "source": [
    "## Calculating Risks and Profits of Each Region"
   ]
  },
  {
   "cell_type": "code",
   "execution_count": 20,
   "metadata": {},
   "outputs": [],
   "source": [
    "# establishing a global random state for the bootstrapping\n",
    "state = np.random.RandomState(1)"
   ]
  },
  {
   "cell_type": "code",
   "execution_count": 21,
   "metadata": {},
   "outputs": [],
   "source": [
    "# defining a function for bootstrapping\n",
    "def bootstrapping(target, predictions, well_samples, bootstrap_samples, region):\n",
    "    target = pd.Series(target)\n",
    "    predictions = pd.Series(predictions)\n",
    "    \n",
    "    target = target.reset_index(drop=True)\n",
    "    predictions = predictions.reset_index(drop=True)\n",
    "    \n",
    "    values = [] # empty list to store profits\n",
    "    \n",
    "    # running the profit calculation for the bootstrapped samples\n",
    "    for i in range(bootstrap_samples):\n",
    "        target_subsample = target.sample(n=well_samples, replace=True, random_state=state)\n",
    "        probs_subsample = predictions[target_subsample.index]\n",
    "        values.append(calculate_profit(target_subsample, probs_subsample))\n",
    "    \n",
    "    values = pd.Series(values)\n",
    "    # creating upper and lower bounds for a 95% confidence interval\n",
    "    upper = round(values.quantile(0.975), 2)\n",
    "    lower = round(values.quantile(0.025), 2)\n",
    "    \n",
    "    # calculating mean of the samples\n",
    "    mean = round(values.mean(), 2)\n",
    "    \n",
    "    # calculating the probability of losses\n",
    "    risk_of_loss = (values < 0).mean() * 100\n",
    "    \n",
    "    print(f'Region represented by {region}', end='\\n')\n",
    "    print(f'The upper and lower bounds for a 95% confidence interval are: ({lower:,}, {upper:,})', end='\\n')\n",
    "    print(f'The average profit in this region is: {mean:,}', end='\\n')\n",
    "    print(f'The risk of losses in this region is: {risk_of_loss}%', end='\\n')\n",
    "    print()"
   ]
  },
  {
   "cell_type": "code",
   "execution_count": 22,
   "metadata": {},
   "outputs": [
    {
     "name": "stdout",
     "output_type": "stream",
     "text": [
      "Region represented by geo0\n",
      "The upper and lower bounds for a 95% confidence interval are: (-1,002,396.27, 9,471,095.33)\n",
      "The average profit in this region is: 4,330,094.0\n",
      "The risk of losses in this region is: 5.2%\n",
      "\n",
      "Region represented by geo1\n",
      "The upper and lower bounds for a 95% confidence interval are: (874,445.41, 8,857,187.54)\n",
      "The average profit in this region is: 4,833,586.7\n",
      "The risk of losses in this region is: 0.6%\n",
      "\n",
      "Region represented by geo2\n",
      "The upper and lower bounds for a 95% confidence interval are: (-1,071,231.91, 9,322,531.18)\n",
      "The average profit in this region is: 3,926,721.33\n",
      "The risk of losses in this region is: 7.199999999999999%\n",
      "\n"
     ]
    }
   ],
   "source": [
    "bootstrapping(geo0_target_valid, predictions_valid_geo0, 500, 1000, 'geo0')\n",
    "bootstrapping(geo1_target_valid, predictions_valid_geo1, 500, 1000, 'geo1')\n",
    "bootstrapping(geo2_target_valid, predictions_valid_geo2, 500, 1000, 'geo2')"
   ]
  },
  {
   "cell_type": "markdown",
   "metadata": {},
   "source": [
    "**Conclusion**\n",
    "\n",
    "I have analyzed each region, by utilizing bootstrapping to form 1000 iterations of 500 samples each, and calculating the average profit, confidence intervals and percent risk (of losses/no profit). The following can be concluded:\n",
    "\n",
    "The region represented by **`geo1`** will likely secure the most profit. While this region has the lowest 97.5% percentile profit values, it is the only region with a 95% confidence interval suggesting ***all profit***. The other two regions have up to $1 million in their 2.5% percentiles.\n",
    "\n",
    "This data suggests that **`geo1`** will be the most consistent profit, with a significantly low percent risk of losses.\n",
    "\n",
    "Since I have utilized 1000 iterations of the samples, we can rest somewhat assured that random chance does not play much affect here. \n",
    "\n",
    "Throughout this project, I have followed through a typical use case of machine learning in the workplace: \n",
    "* I imported a provided dataset and prepared it for analysis (by cleaning it and splitting it into training and validation sets)\n",
    "* Trained linear regression models for each region's dataset\n",
    "* Used the models to predict the oil reserves of the validation datasets' wells\n",
    "* Calculated the profit of each region's top 200 wells\n",
    "* Utilized bootstrapping to generate 1000 iterations of 500 samples of predictions to calculate the average profit, 95% confidence interval and risk of loss percent\n",
    "* Used the data from above to make an informed prediction on the best region to capitalize on"
   ]
  }
 ],
 "metadata": {
  "kernelspec": {
   "display_name": "Python 3 (ipykernel)",
   "language": "python",
   "name": "python3"
  },
  "language_info": {
   "codemirror_mode": {
    "name": "ipython",
    "version": 3
   },
   "file_extension": ".py",
   "mimetype": "text/x-python",
   "name": "python",
   "nbconvert_exporter": "python",
   "pygments_lexer": "ipython3",
   "version": "3.11.5"
  },
  "toc": {
   "base_numbering": 1,
   "nav_menu": {},
   "number_sections": true,
   "sideBar": true,
   "skip_h1_title": true,
   "title_cell": "Table of Contents",
   "title_sidebar": "Contents",
   "toc_cell": false,
   "toc_position": {
    "height": "calc(100% - 180px)",
    "left": "10px",
    "top": "150px",
    "width": "381.4px"
   },
   "toc_section_display": true,
   "toc_window_display": true
  }
 },
 "nbformat": 4,
 "nbformat_minor": 2
}
